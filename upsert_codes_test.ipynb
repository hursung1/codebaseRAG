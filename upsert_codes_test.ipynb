{
 "cells": [
  {
   "cell_type": "code",
   "execution_count": 2,
   "id": "fe6fde41",
   "metadata": {},
   "outputs": [],
   "source": [
    "import os\n",
    "import json\n",
    "import utils\n",
    "import shutil\n",
    "import requests\n",
    "import tempfile\n",
    "import weaviate\n",
    "import subprocess\n",
    "\n",
    "from pathlib import Path\n",
    "from langchain_core.documents import Document\n",
    "from concurrent.futures import ThreadPoolExecutor, as_completed\n",
    "from langchain_text_splitters import RecursiveCharacterTextSplitter, Language"
   ]
  },
  {
   "cell_type": "code",
   "execution_count": 3,
   "id": "02d4cb8d",
   "metadata": {},
   "outputs": [
    {
     "name": "stdout",
     "output_type": "stream",
     "text": [
      "Exception occurred with language perl: Language Language.PERL is not implemented yet!\n"
     ]
    }
   ],
   "source": [
    "language_map = {\n",
    "    \".py\": \"python\",\n",
    "    \".js\": \"js\",\n",
    "    \".ts\": \"ts\",\n",
    "    \".java\": \"java\",\n",
    "    \".cpp\": \"cpp\",\n",
    "    \".c\": \"c\",\n",
    "    \".h\": \"c\",\n",
    "    \".hpp\": \"cpp\",\n",
    "    \".html\": \"html\",\n",
    "    \".css\": \"css\",\n",
    "    \".json\": \"json\",\n",
    "    \".yaml\": \"yaml\",\n",
    "    \".yml\": \"yaml\",\n",
    "    \".md\": \"markdown\",\n",
    "    \".txt\": \"text\",\n",
    "}\n",
    "\n",
    "language_splitters = {}\n",
    "for ln in Language:\n",
    "    try:\n",
    "        language_splitters[ln.value] = RecursiveCharacterTextSplitter.from_language(ln)\n",
    "    except Exception as e:\n",
    "        print(f\"Exception occurred with language {ln.value}: {str(e)}\")"
   ]
  },
  {
   "cell_type": "code",
   "execution_count": 4,
   "id": "e698f66f",
   "metadata": {},
   "outputs": [
    {
     "name": "stderr",
     "output_type": "stream",
     "text": [
      "/Users/seonghwan/miniconda3/envs/langchain/lib/python3.12/site-packages/weaviate/warnings.py:133: DeprecationWarning: Dep005: You are using weaviate-client version 4.10.4. The latest version is 4.14.1.\n",
      "            Consider upgrading to the latest version. See https://weaviate.io/developers/weaviate/client-libraries/python for details.\n",
      "  warnings.warn(\n"
     ]
    }
   ],
   "source": [
    "client = weaviate.connect_to_local()\n",
    "db_index = \"codes\"\n",
    "reset_db = False\n",
    "\n",
    "if reset_db:\n",
    "    client.collections.delete(db_index)\n",
    "    collection = client.collections.create(db_index, description=\"Code snippets with NL descriptions\")\n",
    "else:\n",
    "    collection = client.collections.get(db_index)\n"
   ]
  },
  {
   "cell_type": "markdown",
   "id": "f725d06a",
   "metadata": {},
   "source": [
    "### 먼저 zip파일 내 모든 파일을 읽어 langchain Document 객체화"
   ]
  },
  {
   "cell_type": "code",
   "execution_count": 5,
   "id": "4c5c70f5",
   "metadata": {},
   "outputs": [],
   "source": [
    "temp_dir = tempfile.mkdtemp()\n",
    "try: \n",
    "    subprocess.run([\"unzip\", \"-q\", \"code_snippets/Flowise-main.zip\", \"-d\", temp_dir])\n",
    "except Exception as e:\n",
    "    shutil.rmtree(temp_dir)\n",
    "    raise ValueError(f\"Cannot unzip file: {e}\")\n",
    "\n",
    "try:\n",
    "    file_paths = [\n",
    "        os.path.join(root, file)\n",
    "        for root, _, files in os.walk(temp_dir)\n",
    "        for file in files\n",
    "    ]\n",
    "\n",
    "    all_docs = []\n",
    "\n",
    "    # 파일 읽기 병렬 처리\n",
    "    with ThreadPoolExecutor(max_workers=os.cpu_count()) as executor:\n",
    "        futures = {\n",
    "            executor.submit(utils.load_file, file_path): file_path for file_path in file_paths\n",
    "        }\n",
    "\n",
    "        for fut in as_completed(futures):\n",
    "            docs = fut.result()\n",
    "            if docs: \n",
    "                all_docs.extend(docs)\n",
    "\n",
    "except Exception as e:\n",
    "    raise Exception(f\"Error: {e}\")\n",
    "\n",
    "finally:\n",
    "    shutil.rmtree(temp_dir)"
   ]
  },
  {
   "cell_type": "markdown",
   "id": "adccd135",
   "metadata": {},
   "source": [
    "### 1. 길이 기반 청킹(기본)"
   ]
  },
  {
   "cell_type": "code",
   "execution_count": null,
   "id": "f63cd344",
   "metadata": {},
   "outputs": [
    {
     "data": {
      "text/plain": [
       "BatchObjectReturn(_all_responses=[UUID('6f9de768-8ef2-4716-8012-9132ae9fcea4'), UUID('19af7505-b41b-4151-9a56-b2d7fba07511'), UUID('b569545d-eef3-4673-9cb0-491848b36ef4'), UUID('93c4531a-f1a1-4ad4-ae29-adc7c36851ac'), UUID('42cb8b7f-1828-4349-8c92-cc3c5bc54084'), UUID('96a38345-1efd-4574-a9d3-6f39586355a6'), UUID('9382b33c-4d38-44a4-aca9-b53612c04f3b'), UUID('dc44c76e-1064-4488-bd63-25201412e5cc'), UUID('6c2e99e4-e68d-40fb-a435-58a25ac5d12a'), UUID('913af295-0b38-4fab-9ea5-e5e9e3ffd8bd'), UUID('450302f5-1d8a-433d-b6bb-831d99b7a4c0'), UUID('0c135997-d53b-4bd7-b70e-70141e4733eb'), UUID('d4bf52be-3712-4b03-82a4-80397d4f2fce'), UUID('a72d856f-a6ab-49c1-9877-15f4c21c7633'), UUID('00213f50-6351-48c1-944c-cd28a05de445'), UUID('f93abc3b-0df6-4d92-84d3-fc26951067cf'), UUID('64588252-d367-4662-affb-c98acfcff547'), UUID('d19bf5e5-74e7-4ba5-86a6-3e5af5bb94d8'), UUID('58b19fad-a8c4-42fd-b758-5d76820938a5'), UUID('03cd0d62-56e7-47a1-b75b-14ca4244b5dd'), UUID('866b7675-52a8-4ad5-8aa3-9138dc7adbb6'), UUID('0c9fbdb5-f47c-4607-8974-53cf726fb95a'), UUID('132aed65-168e-4f4d-bd67-624174f5e443'), UUID('f4c7462c-9955-4895-a20f-a6ee20cac1b0'), UUID('07d512ec-cab2-430a-9b3b-1f73a5cd3c43'), UUID('94694de7-4c94-45d5-8354-8a7672858bc8'), UUID('e203fd39-a85a-4efb-ab70-7082d4c33c3f'), UUID('6bea9b2b-97ed-48b8-8bb9-22a2dbc80f73'), UUID('7eb780e4-e756-4b12-8036-f0090804eb3c'), UUID('3764aa46-9282-42dc-91d3-e6ce9a00b3cd'), UUID('2c98dafb-1b27-457c-822b-5515d5a08913'), UUID('d9483664-11e0-4b05-8a57-1fb1c4646182'), UUID('04b562ae-9771-494f-9e95-f1f64d76dd67'), UUID('06ad60db-1de7-47aa-857e-dd1a7bc4f58c'), UUID('2e34115c-ddc7-487f-84a0-197788a1c3d9'), UUID('bef1942b-cd1f-49db-974e-4a3fb9648f10'), UUID('6394a784-66d8-4170-99c5-913d98a69d6b'), UUID('866dfb80-f9cb-422e-897e-143761748adc'), UUID('00f3d51a-c7e2-4aba-b1d4-68d06cad8c66'), UUID('39144c60-f08d-4a12-92a0-6b7d86231ee7'), UUID('de2e5f25-50d0-4636-bb0d-287e7830fc53'), UUID('fb5687d0-ae32-444d-9623-2c08366a9fc2'), UUID('0774487a-f0e2-4e0d-8481-b8bd6e2f3084'), UUID('3bd2b590-a26d-4421-ae56-704bd25d0540'), UUID('3ad32588-1909-49e8-a35e-0ec9169538a0'), UUID('aaac96ae-c6a3-4285-91db-7cff15d66c93'), UUID('5a2547d8-6343-4ecf-88fd-f30c9c001a7d'), UUID('133caf5e-524f-4591-916f-2c44be6fbfbf'), UUID('854ffa4e-1dec-47e9-bead-9feb498ab0c7'), UUID('85841b2a-14e0-4b18-99e5-eeaa4b3d03ff'), UUID('30b6a86e-7f1f-4ee2-b642-2b8f6b86e4ca'), UUID('5b858196-5e72-496c-bb07-c2fa4d625ee1'), UUID('6b99b187-fe40-4f2d-9398-ef7ba6b9078a'), UUID('b9da2350-3714-4ea9-bf96-4b405e2388d4'), UUID('a3c9f8ce-2025-4837-a3f6-87e1f269a9f3'), UUID('89572b34-8afd-46da-bdc0-9363dd3bdb09'), UUID('6965d9a7-bd19-4fa5-914e-4713ab87e8e1'), UUID('825bcdd9-79d3-4e26-8b20-b6b24e2b8c07'), UUID('21638f73-9df7-4b6f-b68d-f308cb1fb40e'), UUID('abd17aaf-0b45-45d4-a3fb-9a0481b49ef5'), UUID('fbfd8247-bab1-4f17-8496-1f9c8e2727d4'), UUID('ab93449c-8fe3-4c26-ac62-35b87842a0a7'), UUID('6c4bdbdd-9ca8-4242-bfee-4f40ceff38a5'), UUID('82e88153-5f04-4ba7-8471-458caa6c3bc7'), UUID('2e8b7b71-e3a6-4c20-b997-480902a143af'), UUID('54fc78d0-3817-4e80-add0-cf783de61ab5'), UUID('53d85514-3350-4e99-8f4a-96a79b509579'), UUID('5bf00003-2329-4f33-8bb8-a3abb35f9254'), UUID('2f99e60f-cd29-40d6-b848-c0fd4ff62b8b'), UUID('fbb239dd-98a7-410c-b8e6-86d70dc5dc92'), UUID('dd8ea0cb-4f3a-4065-a15b-de2bdb13cf8d'), UUID('e19845a1-1828-4ecb-a4ef-8c4155619f92'), UUID('969e9b94-bdbe-4b16-ba25-ccce0fc83501'), UUID('69f8b196-56af-41b9-b9e9-b21a249b39b4'), UUID('f6329afe-7629-491c-b8eb-282b481fcb8c'), UUID('2249a938-2d18-4803-aed2-5575b36d1c87'), UUID('b00df504-207f-4b15-a11d-4edc586a1ccd'), UUID('67831be2-449e-457c-8cca-7c9b783145ae'), UUID('1d13231f-87e6-43d9-859f-717932ce6f59'), UUID('3770ecc3-179b-4ebb-a0c1-cbffe4368556'), UUID('648b70fd-0b7a-403e-afea-fbfd49f29b9e'), UUID('9f486830-b3d8-4399-92aa-d3aaecd1f681'), UUID('e0354ab9-8227-431d-a8b1-b79412ee4d84'), UUID('0baf8af4-f788-4eac-8dd9-72913cd46898'), UUID('cc012326-e1e3-4b28-bb32-16d6b03365fb'), UUID('8834e2b3-9ddc-4eac-99d6-3da48cd221ae'), UUID('a50c3cf5-3a32-4e64-a407-7b5ad4383a3f'), UUID('1233362d-2bef-4c40-960f-d3107284db0a'), UUID('2e126f6c-5f6e-41aa-b36b-268aed253af6'), UUID('27c6b912-1e1a-4b87-a8d6-3e4049fe5f75'), UUID('cd3bd7c3-d593-4dd5-82b2-d416a0bfaacc'), UUID('2a828274-a086-4715-a301-8294ebc21459'), UUID('b2baf2d5-90ae-49e7-8ffe-4370db0b0a7f'), UUID('34fa27fb-9e48-4d7d-a7aa-39ad78f9aed7'), UUID('6f3665c3-1677-4002-bd8d-07b5ff7bab37'), UUID('62a3daed-1546-46fd-a29a-f85fffc6159c'), UUID('524dda15-03d0-4c0a-81a7-c83ca0f96ef5'), UUID('e6f5d39a-2ad2-40a6-85fb-f0a5369da891'), UUID('82d26eb7-e831-4677-9bda-74ecbf0cbaef'), UUID('7b8e0747-9eaf-4762-ad51-3369fd54bf66'), UUID('84eb0509-b097-4f65-9858-591098dba5be'), UUID('102a73c1-b203-4240-9611-28467371bd8a'), UUID('f81a1c86-3f57-4d3f-af5c-283628c02a12'), UUID('35eb7dea-e397-43b2-97b6-270310ed55fb'), UUID('d5791121-e841-4a80-8bc7-c2bdbcd9bf6f'), UUID('eb8d6c81-a340-400f-b272-1f076879a051'), UUID('5598eead-e694-4a49-bf16-0ab82df6a03f'), UUID('1c1df919-2e01-4cee-983e-95e14f97c054'), UUID('b88673e2-f6f0-4bd2-a9aa-d7d3a9eafeab'), UUID('37067c7c-f54e-4669-bb7a-4253bbb4c648'), UUID('2b1b0181-1909-4761-9b32-2ff4d84ae5de'), UUID('0d8acbf0-5b51-469c-b4d6-d049c2590944'), UUID('8b9856d6-9b92-4216-8ceb-363f1beed081'), UUID('30fee181-c85d-44cc-9895-91b6bc536f26'), UUID('37de45c4-4d57-4312-bffe-337ec02dbda2'), UUID('6b0866f8-6421-4d40-a81b-b2972b6518b5'), UUID('4b9b137f-6e01-4243-9831-f2d0d79197e4'), UUID('87b08078-16f7-4c6f-a1f6-bbd097bf5ca7'), UUID('c6d9b5f5-3da8-4ea7-8a9b-313fba97a9e7'), UUID('4559e5ec-6f5f-4d52-8a17-1399f2838283'), UUID('3c40b8dc-fc99-4821-8a20-015580ffcf3f'), UUID('b3a206d3-b7aa-46e2-b569-763c5a9c58e9'), UUID('fa6e1620-27e7-48fc-93d9-7b7194e9d9a6'), UUID('31f5c913-3b2a-4813-af45-b01f0565f6ab'), UUID('626df55f-45d0-47f6-9a39-d8c059cabf63'), UUID('a53ff3c4-1768-45d0-a2fe-d8a580320824'), UUID('81246c3a-2c06-4d77-83f7-5fc6c358a1e5'), UUID('09729110-dc76-44c4-885b-eb4ee2c95dbb'), UUID('bcd3194a-f7d3-4d20-b6d6-2e14dd4845a2'), UUID('e74dd986-9c8b-479c-82f4-46b1a9b46541'), UUID('d80e9bf8-5831-4a88-8de9-d54c32c00f15'), UUID('216624e3-3c6f-49fb-a853-f8ac0819269d'), UUID('046eb682-39f9-4deb-9908-34fdf8594424'), UUID('1bf74967-079f-4f1d-9359-58b13d5dfd77'), UUID('7c10d692-1aeb-4440-9371-fdb9a94df916'), UUID('727ab680-5846-4e48-9163-3463a5d63fa0'), UUID('8ec531ac-242f-4c84-86ff-01dd2f01cfd4'), UUID('53913d54-bf66-4e13-abfa-03ddd03b4afa'), UUID('f6e4197d-fce5-423a-a1cf-cba8c92a8649'), UUID('41482e30-1981-4319-8afd-bb5be3060e9d'), UUID('49363dba-8acf-4632-9975-6faccf6efec6'), UUID('ff9b306c-f814-45d4-b3f9-2f3a80df5ec4'), UUID('e876cb80-e69a-41b6-9bac-87f3b3d1eca4'), UUID('a2e2cd1a-bdb7-408d-9e10-1ef2b72afd05'), UUID('4ce8e47c-e344-4690-aa9b-3f1e12b4cc18'), UUID('422fbc57-094c-4047-bbe6-83cd69628982'), UUID('0f86a583-e184-4e11-a9d5-926587eb2a47'), UUID('1873cebd-00a6-4a17-87c6-475900077371'), UUID('2b9df499-6cd3-49a6-b85b-17a6caf7f980')], elapsed_seconds=0.25014829635620117, errors={}, uuids={0: UUID('6f9de768-8ef2-4716-8012-9132ae9fcea4'), 1: UUID('19af7505-b41b-4151-9a56-b2d7fba07511'), 2: UUID('b569545d-eef3-4673-9cb0-491848b36ef4'), 3: UUID('93c4531a-f1a1-4ad4-ae29-adc7c36851ac'), 4: UUID('42cb8b7f-1828-4349-8c92-cc3c5bc54084'), 5: UUID('96a38345-1efd-4574-a9d3-6f39586355a6'), 6: UUID('9382b33c-4d38-44a4-aca9-b53612c04f3b'), 7: UUID('dc44c76e-1064-4488-bd63-25201412e5cc'), 8: UUID('6c2e99e4-e68d-40fb-a435-58a25ac5d12a'), 9: UUID('913af295-0b38-4fab-9ea5-e5e9e3ffd8bd'), 10: UUID('450302f5-1d8a-433d-b6bb-831d99b7a4c0'), 11: UUID('0c135997-d53b-4bd7-b70e-70141e4733eb'), 12: UUID('d4bf52be-3712-4b03-82a4-80397d4f2fce'), 13: UUID('a72d856f-a6ab-49c1-9877-15f4c21c7633'), 14: UUID('00213f50-6351-48c1-944c-cd28a05de445'), 15: UUID('f93abc3b-0df6-4d92-84d3-fc26951067cf'), 16: UUID('64588252-d367-4662-affb-c98acfcff547'), 17: UUID('d19bf5e5-74e7-4ba5-86a6-3e5af5bb94d8'), 18: UUID('58b19fad-a8c4-42fd-b758-5d76820938a5'), 19: UUID('03cd0d62-56e7-47a1-b75b-14ca4244b5dd'), 20: UUID('866b7675-52a8-4ad5-8aa3-9138dc7adbb6'), 21: UUID('0c9fbdb5-f47c-4607-8974-53cf726fb95a'), 22: UUID('132aed65-168e-4f4d-bd67-624174f5e443'), 23: UUID('f4c7462c-9955-4895-a20f-a6ee20cac1b0'), 24: UUID('07d512ec-cab2-430a-9b3b-1f73a5cd3c43'), 25: UUID('94694de7-4c94-45d5-8354-8a7672858bc8'), 26: UUID('e203fd39-a85a-4efb-ab70-7082d4c33c3f'), 27: UUID('6bea9b2b-97ed-48b8-8bb9-22a2dbc80f73'), 28: UUID('7eb780e4-e756-4b12-8036-f0090804eb3c'), 29: UUID('3764aa46-9282-42dc-91d3-e6ce9a00b3cd'), 30: UUID('2c98dafb-1b27-457c-822b-5515d5a08913'), 31: UUID('d9483664-11e0-4b05-8a57-1fb1c4646182'), 32: UUID('04b562ae-9771-494f-9e95-f1f64d76dd67'), 33: UUID('06ad60db-1de7-47aa-857e-dd1a7bc4f58c'), 34: UUID('2e34115c-ddc7-487f-84a0-197788a1c3d9'), 35: UUID('bef1942b-cd1f-49db-974e-4a3fb9648f10'), 36: UUID('6394a784-66d8-4170-99c5-913d98a69d6b'), 37: UUID('866dfb80-f9cb-422e-897e-143761748adc'), 38: UUID('00f3d51a-c7e2-4aba-b1d4-68d06cad8c66'), 39: UUID('39144c60-f08d-4a12-92a0-6b7d86231ee7'), 40: UUID('de2e5f25-50d0-4636-bb0d-287e7830fc53'), 41: UUID('fb5687d0-ae32-444d-9623-2c08366a9fc2'), 42: UUID('0774487a-f0e2-4e0d-8481-b8bd6e2f3084'), 43: UUID('3bd2b590-a26d-4421-ae56-704bd25d0540'), 44: UUID('3ad32588-1909-49e8-a35e-0ec9169538a0'), 45: UUID('aaac96ae-c6a3-4285-91db-7cff15d66c93'), 46: UUID('5a2547d8-6343-4ecf-88fd-f30c9c001a7d'), 47: UUID('133caf5e-524f-4591-916f-2c44be6fbfbf'), 48: UUID('854ffa4e-1dec-47e9-bead-9feb498ab0c7'), 49: UUID('85841b2a-14e0-4b18-99e5-eeaa4b3d03ff'), 50: UUID('30b6a86e-7f1f-4ee2-b642-2b8f6b86e4ca'), 51: UUID('5b858196-5e72-496c-bb07-c2fa4d625ee1'), 52: UUID('6b99b187-fe40-4f2d-9398-ef7ba6b9078a'), 53: UUID('b9da2350-3714-4ea9-bf96-4b405e2388d4'), 54: UUID('a3c9f8ce-2025-4837-a3f6-87e1f269a9f3'), 55: UUID('89572b34-8afd-46da-bdc0-9363dd3bdb09'), 56: UUID('6965d9a7-bd19-4fa5-914e-4713ab87e8e1'), 57: UUID('825bcdd9-79d3-4e26-8b20-b6b24e2b8c07'), 58: UUID('21638f73-9df7-4b6f-b68d-f308cb1fb40e'), 59: UUID('abd17aaf-0b45-45d4-a3fb-9a0481b49ef5'), 60: UUID('fbfd8247-bab1-4f17-8496-1f9c8e2727d4'), 61: UUID('ab93449c-8fe3-4c26-ac62-35b87842a0a7'), 62: UUID('6c4bdbdd-9ca8-4242-bfee-4f40ceff38a5'), 63: UUID('82e88153-5f04-4ba7-8471-458caa6c3bc7'), 64: UUID('2e8b7b71-e3a6-4c20-b997-480902a143af'), 65: UUID('54fc78d0-3817-4e80-add0-cf783de61ab5'), 66: UUID('53d85514-3350-4e99-8f4a-96a79b509579'), 67: UUID('5bf00003-2329-4f33-8bb8-a3abb35f9254'), 68: UUID('2f99e60f-cd29-40d6-b848-c0fd4ff62b8b'), 69: UUID('fbb239dd-98a7-410c-b8e6-86d70dc5dc92'), 70: UUID('dd8ea0cb-4f3a-4065-a15b-de2bdb13cf8d'), 71: UUID('e19845a1-1828-4ecb-a4ef-8c4155619f92'), 72: UUID('969e9b94-bdbe-4b16-ba25-ccce0fc83501'), 73: UUID('69f8b196-56af-41b9-b9e9-b21a249b39b4'), 74: UUID('f6329afe-7629-491c-b8eb-282b481fcb8c'), 75: UUID('2249a938-2d18-4803-aed2-5575b36d1c87'), 76: UUID('b00df504-207f-4b15-a11d-4edc586a1ccd'), 77: UUID('67831be2-449e-457c-8cca-7c9b783145ae'), 78: UUID('1d13231f-87e6-43d9-859f-717932ce6f59'), 79: UUID('3770ecc3-179b-4ebb-a0c1-cbffe4368556'), 80: UUID('648b70fd-0b7a-403e-afea-fbfd49f29b9e'), 81: UUID('9f486830-b3d8-4399-92aa-d3aaecd1f681'), 82: UUID('e0354ab9-8227-431d-a8b1-b79412ee4d84'), 83: UUID('0baf8af4-f788-4eac-8dd9-72913cd46898'), 84: UUID('cc012326-e1e3-4b28-bb32-16d6b03365fb'), 85: UUID('8834e2b3-9ddc-4eac-99d6-3da48cd221ae'), 86: UUID('a50c3cf5-3a32-4e64-a407-7b5ad4383a3f'), 87: UUID('1233362d-2bef-4c40-960f-d3107284db0a'), 88: UUID('2e126f6c-5f6e-41aa-b36b-268aed253af6'), 89: UUID('27c6b912-1e1a-4b87-a8d6-3e4049fe5f75'), 90: UUID('cd3bd7c3-d593-4dd5-82b2-d416a0bfaacc'), 91: UUID('2a828274-a086-4715-a301-8294ebc21459'), 92: UUID('b2baf2d5-90ae-49e7-8ffe-4370db0b0a7f'), 93: UUID('34fa27fb-9e48-4d7d-a7aa-39ad78f9aed7'), 94: UUID('6f3665c3-1677-4002-bd8d-07b5ff7bab37'), 95: UUID('62a3daed-1546-46fd-a29a-f85fffc6159c'), 96: UUID('524dda15-03d0-4c0a-81a7-c83ca0f96ef5'), 97: UUID('e6f5d39a-2ad2-40a6-85fb-f0a5369da891'), 98: UUID('82d26eb7-e831-4677-9bda-74ecbf0cbaef'), 99: UUID('7b8e0747-9eaf-4762-ad51-3369fd54bf66'), 100: UUID('84eb0509-b097-4f65-9858-591098dba5be'), 101: UUID('102a73c1-b203-4240-9611-28467371bd8a'), 102: UUID('f81a1c86-3f57-4d3f-af5c-283628c02a12'), 103: UUID('35eb7dea-e397-43b2-97b6-270310ed55fb'), 104: UUID('d5791121-e841-4a80-8bc7-c2bdbcd9bf6f'), 105: UUID('eb8d6c81-a340-400f-b272-1f076879a051'), 106: UUID('5598eead-e694-4a49-bf16-0ab82df6a03f'), 107: UUID('1c1df919-2e01-4cee-983e-95e14f97c054'), 108: UUID('b88673e2-f6f0-4bd2-a9aa-d7d3a9eafeab'), 109: UUID('37067c7c-f54e-4669-bb7a-4253bbb4c648'), 110: UUID('2b1b0181-1909-4761-9b32-2ff4d84ae5de'), 111: UUID('0d8acbf0-5b51-469c-b4d6-d049c2590944'), 112: UUID('8b9856d6-9b92-4216-8ceb-363f1beed081'), 113: UUID('30fee181-c85d-44cc-9895-91b6bc536f26'), 114: UUID('37de45c4-4d57-4312-bffe-337ec02dbda2'), 115: UUID('6b0866f8-6421-4d40-a81b-b2972b6518b5'), 116: UUID('4b9b137f-6e01-4243-9831-f2d0d79197e4'), 117: UUID('87b08078-16f7-4c6f-a1f6-bbd097bf5ca7'), 118: UUID('c6d9b5f5-3da8-4ea7-8a9b-313fba97a9e7'), 119: UUID('4559e5ec-6f5f-4d52-8a17-1399f2838283'), 120: UUID('3c40b8dc-fc99-4821-8a20-015580ffcf3f'), 121: UUID('b3a206d3-b7aa-46e2-b569-763c5a9c58e9'), 122: UUID('fa6e1620-27e7-48fc-93d9-7b7194e9d9a6'), 123: UUID('31f5c913-3b2a-4813-af45-b01f0565f6ab'), 124: UUID('626df55f-45d0-47f6-9a39-d8c059cabf63'), 125: UUID('a53ff3c4-1768-45d0-a2fe-d8a580320824'), 126: UUID('81246c3a-2c06-4d77-83f7-5fc6c358a1e5'), 127: UUID('09729110-dc76-44c4-885b-eb4ee2c95dbb'), 128: UUID('bcd3194a-f7d3-4d20-b6d6-2e14dd4845a2'), 129: UUID('e74dd986-9c8b-479c-82f4-46b1a9b46541'), 130: UUID('d80e9bf8-5831-4a88-8de9-d54c32c00f15'), 131: UUID('216624e3-3c6f-49fb-a853-f8ac0819269d'), 132: UUID('046eb682-39f9-4deb-9908-34fdf8594424'), 133: UUID('1bf74967-079f-4f1d-9359-58b13d5dfd77'), 134: UUID('7c10d692-1aeb-4440-9371-fdb9a94df916'), 135: UUID('727ab680-5846-4e48-9163-3463a5d63fa0'), 136: UUID('8ec531ac-242f-4c84-86ff-01dd2f01cfd4'), 137: UUID('53913d54-bf66-4e13-abfa-03ddd03b4afa'), 138: UUID('f6e4197d-fce5-423a-a1cf-cba8c92a8649'), 139: UUID('41482e30-1981-4319-8afd-bb5be3060e9d'), 140: UUID('49363dba-8acf-4632-9975-6faccf6efec6'), 141: UUID('ff9b306c-f814-45d4-b3f9-2f3a80df5ec4'), 142: UUID('e876cb80-e69a-41b6-9bac-87f3b3d1eca4'), 143: UUID('a2e2cd1a-bdb7-408d-9e10-1ef2b72afd05'), 144: UUID('4ce8e47c-e344-4690-aa9b-3f1e12b4cc18'), 145: UUID('422fbc57-094c-4047-bbe6-83cd69628982'), 146: UUID('0f86a583-e184-4e11-a9d5-926587eb2a47'), 147: UUID('1873cebd-00a6-4a17-87c6-475900077371'), 148: UUID('2b9df499-6cd3-49a6-b85b-17a6caf7f980')}, has_errors=False)"
      ]
     },
     "execution_count": 47,
     "metadata": {},
     "output_type": "execute_result"
    }
   ],
   "source": [
    "text_splitter = RecursiveCharacterTextSplitter()\n",
    "\n",
    "# Document 객체를 chunk화\n",
    "# print(all_docs[0])\n",
    "chunks = text_splitter.split_documents(all_docs)\n",
    "chunks = [chunk for chunk in chunks if chunk.page_content]\n",
    "\n",
    "chunks_for_weaviate = []\n",
    "for chunk in chunks:\n",
    "    chunks_for_weaviate.append(\n",
    "        weaviate.classes.data.DataObject(\n",
    "            properties={\n",
    "                \"text\": chunk.page_content,\n",
    "                \"source\": chunk.metadata.get(\"source\", \"unknown\"),\n",
    "                \"language\": chunk.metadata.get(\"language\", \"unknown\"),\n",
    "                \"file_type\": chunk.metadata.get(\"filetype\", \"unknown\")\n",
    "            },\n",
    "            vector=utils.vectorize(chunk.page_content)\n",
    "        ))\n",
    "\n",
    "    if len(chunks_for_weaviate) % 1000 == 0:\n",
    "        collection.data.insert_many(chunks_for_weaviate)\n",
    "        chunks_for_weaviate = []\n",
    "\n",
    "collection.data.insert_many(chunks_for_weaviate)"
   ]
  },
  {
   "cell_type": "code",
   "execution_count": null,
   "id": "e382ee43",
   "metadata": {},
   "outputs": [],
   "source": [
    "query = \"docker build\"\n",
    "query_vector = utils.vectorize(query)\n",
    "search_out = collection.query.hybrid(query=query, vector=query_vector)\n",
    "print(search_out.objects[0].properties[\"text\"])"
   ]
  },
  {
   "cell_type": "code",
   "execution_count": 40,
   "id": "42e59963",
   "metadata": {},
   "outputs": [
    {
     "data": {
      "text/plain": [
       "'# Build local monorepo image\\n# docker build --no-cache -t  flowise .\\n\\n# Run image\\n# docker run -d -p 3000:3000 flowise\\n\\nFROM node:20-alpine\\nRUN apk add --update libc6-compat python3 make g++\\n# needed for pdfjs-dist\\nRUN apk add --no-cache build-base cairo-dev pango-dev\\n\\n# Install Chromium\\nRUN apk add --no-cache chromium\\n\\n# Install curl for container-level health checks\\n# Fixes: https://github.com/FlowiseAI/Flowise/issues/4126\\nRUN apk add --no-cache curl\\n\\n#install PNPM globaly\\nRUN npm install -g pnpm\\n\\nENV PUPPETEER_SKIP_DOWNLOAD=true\\nENV PUPPETEER_EXECUTABLE_PATH=/usr/bin/chromium-browser\\n\\nENV NODE_OPTIONS=--max-old-space-size=8192\\n\\nWORKDIR /usr/src\\n\\n# Copy app source\\nCOPY . .\\n\\nRUN pnpm install\\n\\nRUN pnpm build\\n\\nEXPOSE 3000\\n\\nCMD [ \"pnpm\", \"start\" ]'"
      ]
     },
     "execution_count": 40,
     "metadata": {},
     "output_type": "execute_result"
    }
   ],
   "source": [
    "chunks[0].page_content"
   ]
  },
  {
   "cell_type": "markdown",
   "id": "2f145bee",
   "metadata": {},
   "source": [
    "### 2. language-specific한 청킹"
   ]
  },
  {
   "cell_type": "code",
   "execution_count": 9,
   "id": "20fea81f",
   "metadata": {},
   "outputs": [],
   "source": [
    "codesplit_db_index = \"codesplit\"\n",
    "collection = client.collections.create(codesplit_db_index, description=\"Code snippets splitted by language\")"
   ]
  },
  {
   "cell_type": "code",
   "execution_count": null,
   "id": "aa4536e3",
   "metadata": {},
   "outputs": [],
   "source": [
    "chunks_for_weaviate = []\n",
    "not_supported = 0\n",
    "text_splitter = RecursiveCharacterTextSplitter()\n",
    "\n",
    "for doc in all_docs:\n",
    "    # print(doc)\n",
    "    doc_language = doc.metadata[\"language\"]\n",
    "\n",
    "    if doc_language == \"javascript\": doc_language = \"js\"\n",
    "    if doc_language == \"typescript\": doc_language = \"ts\"\n",
    "\n",
    "    if doc_language in [\"json\", \"text\", \"unknown\", \"yaml\", \"css\"]: # json 등 일반 텍스트에 해당하면 -> 일단은 단순 길이 기반 청킹 수행\n",
    "        chunks = text_splitter.create_documents([doc.page_content])\n",
    "\n",
    "    elif doc_language in [\"python\", \"js\", \"ts\", \"html\", \"c\", \"cpp\", \"csharp\", \"markdown\"]: # 코드에 해당하는 경우 -> 코드 기반 청킹 수행\n",
    "        sp_splitter = language_splitters[doc_language] # 해당하는 코드의 splitter를 가져옴\n",
    "        chunks = sp_splitter.create_documents([doc.page_content])\n",
    "\n",
    "    else:\n",
    "        print(doc_language)\n",
    "        chunks = []\n",
    "\n",
    "    for chunk in chunks:\n",
    "        chunks_for_weaviate.append(\n",
    "        weaviate.classes.data.DataObject(\n",
    "            properties={\n",
    "                \"text\": chunk.page_content,\n",
    "                \"source\": chunk.metadata.get(\"source\", \"unknown\"),\n",
    "                \"language\": chunk.metadata.get(\"language\", \"unknown\"),\n",
    "                \"file_type\": chunk.metadata.get(\"filetype\", \"unknown\")\n",
    "            },\n",
    "            vector=utils.vectorize(chunk.page_content)\n",
    "        ))\n",
    "\n",
    "    if len(chunks_for_weaviate) and len(chunks_for_weaviate) % 1000 == 0:\n",
    "        collection.data.insert_many(chunks_for_weaviate)\n",
    "        chunks_for_weaviate = []\n",
    "\n",
    "collection.data.insert_many(chunks_for_weaviate)"
   ]
  },
  {
   "cell_type": "markdown",
   "id": "cf3da15b",
   "metadata": {},
   "source": [
    "### 모델 호출: code chunk에 대한 description을 생성"
   ]
  },
  {
   "cell_type": "code",
   "execution_count": null,
   "id": "34472516",
   "metadata": {},
   "outputs": [],
   "source": [
    "text_splitter = RecursiveCharacterTextSplitter()\n",
    "\n",
    "# Document 객체를 chunk화\n",
    "# print(all_docs[0])\n",
    "chunks = text_splitter.split_documents(all_docs)\n",
    "chunks = [chunk for chunk in chunks if chunk.page_content]\n",
    "\n",
    "desc_aug_chunks = []\n",
    "system_prompt = \"You are a code analyzer. Read the given code and write a description of it.\"\n",
    "for chunk in chunks[:10]:\n",
    "    model_out = utils.call_llm(system_prompt, chunk.page_content)\n",
    "    description = model_out[\"content\"]\n",
    "\n",
    "    desc_aug_chunks.append(f\"\"\"### {description}\\n{chunk.page_content}\"\"\")\n",
    "\n",
    "print(desc_aug_chunks)"
   ]
  },
  {
   "cell_type": "code",
   "execution_count": null,
   "id": "90c88503",
   "metadata": {},
   "outputs": [],
   "source": []
  }
 ],
 "metadata": {
  "kernelspec": {
   "display_name": "langchain",
   "language": "python",
   "name": "python3"
  },
  "language_info": {
   "codemirror_mode": {
    "name": "ipython",
    "version": 3
   },
   "file_extension": ".py",
   "mimetype": "text/x-python",
   "name": "python",
   "nbconvert_exporter": "python",
   "pygments_lexer": "ipython3",
   "version": "3.12.8"
  }
 },
 "nbformat": 4,
 "nbformat_minor": 5
}
